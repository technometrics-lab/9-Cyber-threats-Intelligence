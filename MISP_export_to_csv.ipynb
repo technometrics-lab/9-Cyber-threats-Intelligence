{
 "cells": [
  {
   "cell_type": "code",
   "execution_count": 1,
   "metadata": {},
   "outputs": [],
   "source": [
    "import os\n",
    "import json\n",
    "import time\n",
    "import glob\n",
    "import shutil\n",
    "import os.path\n",
    "\n",
    "import pandas as pd\n",
    "import numpy as np\n",
    "\n",
    "from datetime import date, datetime\n",
    "\n",
    "%load_ext lab_black"
   ]
  },
  {
   "cell_type": "code",
   "execution_count": 2,
   "metadata": {},
   "outputs": [],
   "source": [
    "data_folder = \"/home/gillard/Bureau/MISP_Analysis/Back-up/WEIS2022/Events_created\"\n",
    "output_folder = \"/home/gillard/Bureau/MISP_Analysis/Back-up/WEIS2022\""
   ]
  },
  {
   "cell_type": "code",
   "execution_count": 3,
   "metadata": {},
   "outputs": [
    {
     "name": "stdout",
     "output_type": "stream",
     "text": [
      "/home/gillard/Bureau/MISP_Analysis/Back-up/WEIS2022/Events_created/2022-02-08/event_1832.jsonn\r"
     ]
    }
   ],
   "source": [
    "events = []\n",
    "attributes = []\n",
    "related_events = []\n",
    "tags = []\n",
    "galaxies = []\n",
    "galaxyclusters = []\n",
    "\n",
    "for path, subdirs, files in os.walk(data_folder):\n",
    "    for file in files:\n",
    "        if file.startswith(\"event_\") and file.endswith(\".json\"):\n",
    "            with open(os.path.join(path, file), \"r\") as event_file:\n",
    "                print(os.path.join(path, file), end=\"\\r\")\n",
    "                event = json.loads(\"[\" + event_file.read().replace(\"}{\", \"},{\") + \"]\")[\n",
    "                    -1\n",
    "                ][\"Event\"]\n",
    "\n",
    "            events.append(\n",
    "                {\n",
    "                    \"Event ID\": int(event[\"id\"]),\n",
    "                    \"Orgc ID\": int(event[\"orgc_id\"]),\n",
    "                    \"Org ID\": int(event[\"org_id\"]),\n",
    "                    \"Org event creator\": event[\"Orgc\"][\"uuid\"],\n",
    "                    \"Org UUID\": event[\"Org\"][\"uuid\"],\n",
    "                    \"Date\": event[\"date\"],\n",
    "                    \"Threat Level ID\": int(event[\"threat_level_id\"]),\n",
    "                    \"Published\": event[\"published\"],\n",
    "                    \"UUID\": event[\"uuid\"],\n",
    "                    \"Attribute Count\": int(event[\"attribute_count\"]),\n",
    "                    \"Related Events Count\": len(event[\"RelatedEvent\"]),\n",
    "                    \"Analysis\": event[\"analysis\"],\n",
    "                    \"Timestamp\": int(event[\"timestamp\"]),\n",
    "                    \"Distribution\": int(event[\"distribution\"]),\n",
    "                    \"Published Timestamp\": int(event[\"publish_timestamp\"]),\n",
    "                    \"Info\": event[\"info\"],\n",
    "                }\n",
    "            )\n",
    "\n",
    "            for attribute in event[\"Attribute\"]:\n",
    "                attributes.append(\n",
    "                    {\n",
    "                        \"Event ID\": int(attribute[\"event_id\"]),\n",
    "                        \"Orgc ID\": int(event[\"orgc_id\"]),\n",
    "                        \"Org ID\": int(event[\"org_id\"]),\n",
    "                        \"Attribute ID\": int(attribute[\"id\"]),\n",
    "                        \"UUID\": attribute[\"uuid\"],\n",
    "                        \"Attribute Type\": attribute[\"type\"],\n",
    "                        \"Attribute Category\": attribute[\"category\"],\n",
    "                        \"Distribution\": int(attribute[\"distribution\"]),\n",
    "                        \"Timestamp\": int(attribute[\"timestamp\"]),\n",
    "                        \"Event Date\": event[\"date\"],\n",
    "                        \"Event Published\": int(event[\"publish_timestamp\"]),\n",
    "                        \"Published\": event[\"published\"],\n",
    "                        \"Deleted\": attribute[\"deleted\"],\n",
    "                        \"Value\": attribute[\"value\"],\n",
    "                        \"Comment\": attribute[\"comment\"],\n",
    "                    }\n",
    "                )\n",
    "\n",
    "            for related_event in event[\"RelatedEvent\"]:\n",
    "                related_events.append(\n",
    "                    {\n",
    "                        \"Event ID\": int(event[\"id\"]),\n",
    "                        \"Orgc ID\": int(event[\"orgc_id\"]),\n",
    "                        \"Org ID\": int(event[\"org_id\"]),\n",
    "                        \"Date\": event[\"date\"],\n",
    "                        \"Related Event ID\": int(related_event[\"Event\"][\"id\"]),\n",
    "                        \"Orgc RE\": int(related_event[\"Event\"][\"orgc_id\"]),\n",
    "                        \"Date RE\": related_event[\"Event\"][\"date\"],\n",
    "                    }\n",
    "                )\n",
    "            if \"Tag\" in event:\n",
    "                for tag in event[\"Tag\"]:\n",
    "\n",
    "                    tags.append(\n",
    "                        {\n",
    "                            \"Event ID\": int(event[\"id\"]),\n",
    "                            \"Orgc ID\": int(event[\"orgc_id\"]),\n",
    "                            \"Org ID\": int(event[\"org_id\"]),\n",
    "                            \"Date\": event[\"date\"],\n",
    "                            \"Timestamp\": int(event[\"timestamp\"]),\n",
    "                            \"Analysis\": event[\"analysis\"],\n",
    "                            \"Tag ID\": int(tag[\"id\"]),\n",
    "                            \"Tag Name\": tag[\"name\"],\n",
    "                            \"Tag Colour\": tag[\"colour\"],\n",
    "                        }\n",
    "                    )\n",
    "\n",
    "            if \"Galaxy\" in event:\n",
    "                for galaxy in event[\"Galaxy\"]:\n",
    "                    galaxies.append(\n",
    "                        {\n",
    "                            \"Event ID\": int(event[\"id\"]),\n",
    "                            \"Orgc ID\": int(event[\"orgc_id\"]),\n",
    "                            \"Date\": event[\"date\"],\n",
    "                            \"Galaxy ID\": int(galaxy[\"id\"]),\n",
    "                            \"Galaxy Name\": galaxy[\"name\"],\n",
    "                        }\n",
    "                    )\n",
    "#             if \"GalaxyCluster\" in event:\n",
    "#                 for galaxycluster in event[\"GalaxyCluster\"]:\n",
    "\n",
    "#                     galaxyclusters.append(\n",
    "#                         {\n",
    "#                             \"Event ID\": int(event[\"id\"]),\n",
    "#                             \"Orgc ID\": int(event[\"orgc_id\"]),\n",
    "#                             \"GalaxyCluster ID\": int(galaxycluster[\"id\"]),\n",
    "#                             \"GalaxyCluster Name\": galaxycluster[\"name\"],\n",
    "#                         }\n",
    "#                     )"
   ]
  },
  {
   "cell_type": "markdown",
   "metadata": {},
   "source": [
    "# Important: Add a part which update all .csv by exporting Event_modified and by comparing the Timestamp of the last update"
   ]
  },
  {
   "cell_type": "code",
   "execution_count": 4,
   "metadata": {},
   "outputs": [],
   "source": [
    "Events = pd.DataFrame(events)\n",
    "Events = Events.drop_duplicates(subset=[\"UUID\"], keep=\"first\")\n",
    "int_columns = [\n",
    "    \"Event ID\",\n",
    "    \"Orgc ID\",\n",
    "    \"Org ID\",\n",
    "    \"Threat Level ID\",\n",
    "    \"Attribute Count\",\n",
    "    \"Related Events Count\",\n",
    "    \"Timestamp\",\n",
    "    \"Distribution\",\n",
    "    \"Published Timestamp\",\n",
    "]\n",
    "Events[int_columns] = Events[int_columns].astype(int)\n",
    "Events = Events.sort_values([\"Event ID\"]).reset_index().drop([\"index\"], axis=1)\n",
    "Events.to_csv(f\"{output_folder}/Events.csv\", index=False, header=True)"
   ]
  },
  {
   "cell_type": "code",
   "execution_count": 5,
   "metadata": {},
   "outputs": [],
   "source": [
    "Tags = pd.DataFrame(tags)\n",
    "Tags.drop_duplicates(subset=[\"Event ID\", \"Tag ID\"], keep=\"first\")\n",
    "Tags[\"Date\"] = pd.to_datetime(Tags[\"Date\"])\n",
    "Tags[\"Date\"] = Tags[\"Date\"].apply(lambda x: x.strftime(\"%Y-%m-%d %H:%M:%S\"))\n",
    "Tags[\"Date\"] = Tags[\"Date\"].apply(\n",
    "    lambda x: time.mktime(time.strptime(x, \"%Y-%m-%d %H:%M:%S\"))\n",
    ")\n",
    "Tags[\"Delta t\"] = Tags[\"Timestamp\"] - Tags[\"Date\"]\n",
    "Tags = Tags.sort_values([\"Event ID\"]).reset_index().drop([\"index\"], axis=1)\n",
    "Tags.to_csv(f\"{output_folder}/Tags.csv\", index=False, header=True)"
   ]
  },
  {
   "cell_type": "code",
   "execution_count": 6,
   "metadata": {},
   "outputs": [],
   "source": [
    "Attributes = pd.DataFrame(attributes)\n",
    "Attributes.drop_duplicates(subset=[\"Attribute ID\"], keep=\"first\")  # UUID\n",
    "Attributes.to_csv(\n",
    "    f\"{output_folder}/Attributes.csv\", index=False, header=True\n",
    ")  #!!!!!!!!!!!!!!!!!!!!!!!!!!!!!!!!!!!"
   ]
  },
  {
   "cell_type": "code",
   "execution_count": 7,
   "metadata": {},
   "outputs": [],
   "source": [
    "Related_events = pd.DataFrame(related_events)\n",
    "Related_events.drop_duplicates(\n",
    "    subset=[\"Related Event ID\"], keep=\"first\"\n",
    ")  #!!!!!!!!!!!!!!!!!!!!!!!!!!!!!!!!!\n",
    "Related_events.to_csv(\n",
    "    f\"{output_folder}/Related_Events.csv\", index=False, header=True\n",
    ")  #!!!!!!!!!!!!!!!!!!!!!!!!!!!!!!!"
   ]
  },
  {
   "cell_type": "code",
   "execution_count": 8,
   "metadata": {},
   "outputs": [],
   "source": [
    "Galaxies = pd.DataFrame(galaxies)\n",
    "Galaxies.drop_duplicates(subset=[\"Galaxy ID\"], keep=\"first\")\n",
    "Galaxies.to_csv(f\"{output_folder}/Galaxies.csv\", index=False, header=True)"
   ]
  },
  {
   "cell_type": "code",
   "execution_count": 9,
   "metadata": {},
   "outputs": [],
   "source": [
    "# GalaxyClusters = pd.DataFrame(galaxyclusters)\n",
    "# GalaxyClusters.drop_duplicates(subset=[\"GalaxyCluster ID\"], keep=\"first\")\n",
    "# GalaxyClusters.to_csv(f\"{output_folder}/GalaxyClusters.csv\", index=False, header=True)"
   ]
  },
  {
   "cell_type": "code",
   "execution_count": 10,
   "metadata": {},
   "outputs": [
    {
     "name": "stdout",
     "output_type": "stream",
     "text": [
      "/home/gillard/Bureau/MISP_Analysis/Back-up/WEIS2022/Organisations/2022-02-08/org_1574.json\r"
     ]
    }
   ],
   "source": [
    "# Create the .csv based on the last added folder, i.e. the last retrieving\n",
    "data_folder = \"/home/gillard/Bureau/MISP_Analysis/Back-up/WEIS2022/Organisations\"\n",
    "organisation_folder = max(\n",
    "    [os.path.join(data_folder, d) for d in os.listdir(data_folder)],\n",
    "    key=os.path.getmtime,\n",
    ")  # \"/home/gillard/Bureau/MISP_Analysis/Back-up/Organisations/2022-02-07\"\n",
    "\n",
    "organisations = []\n",
    "\n",
    "for path, subdirs, files in os.walk(organisation_folder):\n",
    "    for file in files:\n",
    "        if file.startswith(\"org_\") and file.endswith(\".json\"):\n",
    "            with open(os.path.join(path, file), \"r\") as org_file:\n",
    "                print(os.path.join(path, file), end=\"\\r\")\n",
    "                org = json.load(org_file)[\"Organisation\"]\n",
    "\n",
    "                organisations.append(\n",
    "                    {\n",
    "                        \"Org ID\": int(org[\"id\"]),\n",
    "                        \"Org Name\": org[\"name\"],\n",
    "                        \"Org UUID\": org[\"uuid\"],\n",
    "                        \"Nationality\": org[\"nationality\"],\n",
    "                        \"Date created\": org[\"date_created\"],\n",
    "                        \"Date modified\": org[\"date_modified\"],\n",
    "                        \"Sector\": org[\"sector\"],\n",
    "                        \"User Count\": int(org[\"user_count\"]),\n",
    "                        \"Local\": str(org[\"local\"]),\n",
    "                    }\n",
    "                )"
   ]
  },
  {
   "cell_type": "code",
   "execution_count": 11,
   "metadata": {},
   "outputs": [],
   "source": [
    "Organisations = pd.DataFrame(organisations)\n",
    "int_columns = [\"Org ID\", \"User Count\"]\n",
    "Organisations[int_columns] = Organisations[int_columns].astype(int)\n",
    "Organisations = (\n",
    "    Organisations.sort_values([\"Org ID\"]).reset_index().drop([\"index\"], axis=1)\n",
    ")\n",
    "Organisations.to_csv(f\"{output_folder}/Organisations.csv\", index=False, header=True)"
   ]
  },
  {
   "cell_type": "markdown",
   "metadata": {},
   "source": []
  },
  {
   "cell_type": "code",
   "execution_count": null,
   "metadata": {},
   "outputs": [],
   "source": []
  },
  {
   "cell_type": "code",
   "execution_count": null,
   "metadata": {},
   "outputs": [],
   "source": []
  },
  {
   "cell_type": "code",
   "execution_count": null,
   "metadata": {},
   "outputs": [],
   "source": []
  },
  {
   "cell_type": "code",
   "execution_count": null,
   "metadata": {},
   "outputs": [],
   "source": []
  }
 ],
 "metadata": {
  "kernelspec": {
   "display_name": "Python 3 (ipykernel)",
   "language": "python",
   "name": "python3"
  },
  "language_info": {
   "codemirror_mode": {
    "name": "ipython",
    "version": 3
   },
   "file_extension": ".py",
   "mimetype": "text/x-python",
   "name": "python",
   "nbconvert_exporter": "python",
   "pygments_lexer": "ipython3",
   "version": "3.8.10"
  }
 },
 "nbformat": 4,
 "nbformat_minor": 4
}
